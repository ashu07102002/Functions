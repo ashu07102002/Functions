{
  "nbformat": 4,
  "nbformat_minor": 0,
  "metadata": {
    "colab": {
      "provenance": []
    },
    "kernelspec": {
      "name": "python3",
      "display_name": "Python 3"
    },
    "language_info": {
      "name": "python"
    }
  },
  "cells": [
    {
      "cell_type": "markdown",
      "source": [
        "Theoritical Questions-Answer\n"
      ],
      "metadata": {
        "id": "vdHHqDqjuSUo"
      }
    },
    {
      "cell_type": "markdown",
      "source": [
        "1. What is the difference between a function and a method in Python?\n",
        "   - Function: A block of reusable code that is defined independently of any object.\n",
        "\n",
        "   - Method: A function that is associated with an object and called on that object.\n",
        "   Example :-\n",
        "   def greet():\n",
        "       return \"Hello!\"\n",
        "print(greet())\n",
        "name = \"Alice\"\n",
        "print(name.upper())\n",
        "\n",
        "2. Explain the concept of function arguments and parameters in Python.\n",
        "   - Parameters are variables defined in a function’s definition.\n",
        "   - Arguments are the actual values passed to the function when calling it.\n",
        "   Example :-\n",
        "   def add(x, y):\n",
        "       return x + y\n",
        "result = add(3, 5)\n",
        "print(result)\n",
        "\n",
        "3. What are the different ways to define and call a function in Python?\n",
        "   - Define with def\n",
        "   - Use default parameters, keyword arguments, variable-length arguments (*args, **kwargs)\n",
        "   Example :-\n",
        "   def greet(name=\"Guest\"):\n",
        "       print(f\"Hello, {name}!\")\n",
        "\n",
        "greet()        \n",
        "greet(\"Alice\")\n",
        "greet(name=\"Bob\")\n",
        "   \n",
        "4. What is the purpose of the return statement in a Python function?\n",
        "   - The return statement sends a value back to the caller and exits the function.\n",
        "   Example:\n",
        "   def square(num):\n",
        "       return num * num\n",
        "result = square(4)\n",
        "print(result)\n",
        "\n",
        "5. What are iterators in Python and how do they differ from iterables?\n",
        "   - Iterable: An object you can loop over (like lists, strings).\n",
        "   - Iterator: An object that produces the next item when next() is called.\n",
        "   Example :-\n",
        "   my_list = [1, 2, 3]\n",
        "iterator = iter(my_list)\n",
        "print(next(iterator))  \n",
        "print(next(iterator))\n",
        "\n",
        "6. Explain the concept of generators in Python and how they are defined.\n",
        "   - Generators are functions that yield values one at a time, using the yield keyword.\n",
        "   - They produce items lazily (on demand).\n",
        "   Example:\n",
        "   def count_up_to(n):\n",
        "       count = 1\n",
        "       while count <= n:\n",
        "          yield count\n",
        "          count += 1\n",
        "for number in count_up_to(3):\n",
        "    print(number)\n",
        "\n",
        "7. What are the advantages of using generators over regular functions?\n",
        "   - Memory efficient: they generate items one by one, not all at once.\n",
        "   - Useful for large datasets or infinite sequences.\n",
        "   Example:\n",
        "   def large_range():\n",
        "       for i in range(1_000_000):\n",
        "           yield i\n",
        "gen = large_range()\n",
        "\n",
        "8. What is a lambda function in Python and when is it typically used?\n",
        "   - Anonymous, small functions defined with lambda.\n",
        "   - Used for short, throwaway functions, often in higher-order functions.\n",
        "   Example:\n",
        "   square = lambda x: x * x\n",
        "print(square(5))  # Output: 25\n",
        "nums = [1, 2, 3]\n",
        "squares = list(map(lambda x: x * x, nums))\n",
        "print(squares)\n",
        "\n",
        "9. Explain the purpose and usage of the map() function in Python.\n",
        "   - map() applies a function to every item in an iterable and returns an iterator.\n",
        "   Example:\n",
        "   nums = [1, 2, 3]\n",
        "   result = map(lambda x: x + 1, nums)\n",
        "   print(list(result))\n",
        "\n",
        "10. What is the difference between map(), reduce(), and filter() functions in Python?\n",
        "   - map(): Applies a function to every item.\n",
        "   - reduce(): Applies a rolling computation to items, reducing to a single value (from functools).\n",
        "   - filter(): Filters items based on a function returning True/False.\n",
        "   Example:\n",
        "   from functools import reduce\n",
        "   nums = [1, 2, 3, 4]\n",
        "   print(list(map(lambda x: x*x, nums)))  # [1, 4, 9, 16]\n",
        "   print(list(filter(lambda x: x % 2 == 0, nums)))  # [2, 4]\n",
        "   print(reduce(lambda x, y: x + y, nums))\n",
        "\n",
        "11. Using pen & paper write the internal mechanism for sum operation using reduce function on this given list: [47, 11, 42, 13]\n",
        "\n",
        "<img src='https://drive.google.com/uc?id=1Nh8eGa0Fj_DMa4PqmzCKxwx092aue1Rr'\n",
        "width-300px>\n",
        "   \n",
        "\n",
        "\n"
      ],
      "metadata": {
        "id": "lSWlf2kwuWs9"
      }
    },
    {
      "cell_type": "markdown",
      "source": [
        "Practical Questions:"
      ],
      "metadata": {
        "id": "O61Afl8v6Bwo"
      }
    },
    {
      "cell_type": "code",
      "source": [
        "#1. Write a Python function that takes a list of numbers as input and returns the sum of all even numbers in the list.\n",
        "def sum_even_numbers(numbers):\n",
        "    return sum(num for num in numbers if num % 2 == 0)\n",
        "my_list = [1, 2, 3, 4, 8, 12, 15]\n",
        "result = sum_even_numbers(my_list)\n",
        "print(\"Sum of even numbers:\", result)"
      ],
      "metadata": {
        "colab": {
          "base_uri": "https://localhost:8080/"
        },
        "id": "K_GhO8_o6HUO",
        "outputId": "f6383972-293d-4239-db1f-cf9501c81c9c"
      },
      "execution_count": null,
      "outputs": [
        {
          "output_type": "stream",
          "name": "stdout",
          "text": [
            "Sum of even numbers: 26\n"
          ]
        }
      ]
    },
    {
      "cell_type": "code",
      "source": [
        "#2.  Create a Python function that accepts a string and returns the reverse of that string\n",
        "def reverse_string(s):\n",
        "    return s[::-1]\n",
        "input_str = \"hello\"\n",
        "reversed_str = reverse_string(input_str)\n",
        "print(reversed_str)"
      ],
      "metadata": {
        "colab": {
          "base_uri": "https://localhost:8080/"
        },
        "id": "AJdh1Swh-Pgg",
        "outputId": "35eb7acc-d365-4ae8-e708-77b1d999cf32"
      },
      "execution_count": null,
      "outputs": [
        {
          "output_type": "stream",
          "name": "stdout",
          "text": [
            "olleh\n"
          ]
        }
      ]
    },
    {
      "cell_type": "code",
      "source": [
        "#3.  Implement a Python function that takes a list of integers and returns a new list containing the squares of each number.\n",
        "def square_numbers(numbers):\n",
        "    return [x ** 2 for x in numbers]\n",
        "input_list = [1, 2, 3, 4, 5]\n",
        "squared_list = square_numbers(input_list)\n",
        "print(squared_list)"
      ],
      "metadata": {
        "colab": {
          "base_uri": "https://localhost:8080/"
        },
        "id": "zIBo9P3z-hQ-",
        "outputId": "b0002c6e-9c93-4a5c-8eaa-37913d4ec3d8"
      },
      "execution_count": null,
      "outputs": [
        {
          "output_type": "stream",
          "name": "stdout",
          "text": [
            "[1, 4, 9, 16, 25]\n"
          ]
        }
      ]
    },
    {
      "cell_type": "code",
      "source": [
        "#4. Write a Python function that checks if a given number is prime or not from 1 to 200\n",
        "def is_prime(n):\n",
        "    if n < 2:\n",
        "        return False\n",
        "    for i in range(2, int(n ** 0.5) + 1):\n",
        "        if n % i == 0:\n",
        "            return False\n",
        "    return True\n",
        "try:\n",
        "    user_input = int(input(\"Enter a number between 1 and 200: \"))\n",
        "    if 1 <= user_input <= 200:\n",
        "        if is_prime(user_input):\n",
        "            print(f\"{user_input} is a prime number.\")\n",
        "        else:\n",
        "            print(f\"{user_input} is not a prime number.\")\n",
        "    else:\n",
        "        print(\"Number is out of range. Please enter a number between 1 and 200.\")\n",
        "except ValueError:\n",
        "    print(\"Invalid input. Please enter a valid integer.\")"
      ],
      "metadata": {
        "colab": {
          "base_uri": "https://localhost:8080/"
        },
        "id": "-AHhlhRx-mwf",
        "outputId": "740ceee9-c275-4e2f-c92d-6a0a2277d1a9"
      },
      "execution_count": null,
      "outputs": [
        {
          "output_type": "stream",
          "name": "stdout",
          "text": [
            "Enter a number between 1 and 200: 73\n",
            "73 is a prime number.\n"
          ]
        }
      ]
    },
    {
      "cell_type": "code",
      "source": [
        "#5. Create an iterator class in Python that generates the Fibonacci sequence up to a specified number of terms.\n",
        "class Fibonacci:\n",
        "    def __init__(self, n):\n",
        "        self.n = n\n",
        "        self.a = 0\n",
        "        self.b = 1\n",
        "        self.count = 0\n",
        "    def __iter__(self):\n",
        "        return self\n",
        "    def __next__(self):\n",
        "        if self.count >= self.n:\n",
        "            raise StopIteration\n",
        "        if self.count == 0:\n",
        "            self.count += 1\n",
        "            return 0\n",
        "        elif self.count == 1:\n",
        "            self.count += 1\n",
        "            return 1\n",
        "        else:\n",
        "            self.a, self.b = self.b, self.a + self.b\n",
        "            self.count += 1\n",
        "            return self.b\n",
        "for number in Fibonacci(5):\n",
        "    print(number)"
      ],
      "metadata": {
        "colab": {
          "base_uri": "https://localhost:8080/"
        },
        "id": "dAp8gdblAGIv",
        "outputId": "70f33d9d-f8d0-4085-c365-63f93497aa53"
      },
      "execution_count": null,
      "outputs": [
        {
          "output_type": "stream",
          "name": "stdout",
          "text": [
            "0\n",
            "1\n",
            "1\n",
            "2\n",
            "3\n"
          ]
        }
      ]
    },
    {
      "cell_type": "code",
      "source": [
        "#6. Write a generator function in Python that yields the powers of 2 up to a given exponent.\n",
        "def powers_of_two(max_exponent):\n",
        "    for exp in range(max_exponent + 1):\n",
        "        yield 2 ** exp\n",
        "for value in powers_of_two(5):\n",
        "    print(value)"
      ],
      "metadata": {
        "colab": {
          "base_uri": "https://localhost:8080/"
        },
        "id": "yOQRD0s0BCzx",
        "outputId": "ae5aae1d-872d-4b0e-a22f-fc8410a18793"
      },
      "execution_count": null,
      "outputs": [
        {
          "output_type": "stream",
          "name": "stdout",
          "text": [
            "1\n",
            "2\n",
            "4\n",
            "8\n",
            "16\n",
            "32\n"
          ]
        }
      ]
    },
    {
      "cell_type": "code",
      "source": [
        "#7.  Implement a generator function that reads a file line by line and yields each line as a string.\n",
        "def read_file_line_by_line(file_path):\n",
        "    with open(file_path, 'r') as file:\n",
        "        for line in file:\n",
        "            yield line.rstrip('\\n')"
      ],
      "metadata": {
        "id": "MbZY1QWaBSXA"
      },
      "execution_count": null,
      "outputs": []
    },
    {
      "cell_type": "code",
      "source": [
        "#8. Use a lambda function in Python to sort a list of tuples based on the second element of each tuple\n",
        "tuples_list = [(1, 3), (4, 1), (2, 2), (5, 0)]\n",
        "sorted_list = sorted(tuples_list, key=lambda x: x[1])\n",
        "print(sorted_list)"
      ],
      "metadata": {
        "colab": {
          "base_uri": "https://localhost:8080/"
        },
        "id": "1tsPvCL9B_PG",
        "outputId": "a1bcb574-c2fc-4a66-c87f-d669ca239470"
      },
      "execution_count": null,
      "outputs": [
        {
          "output_type": "stream",
          "name": "stdout",
          "text": [
            "[(5, 0), (4, 1), (2, 2), (1, 3)]\n"
          ]
        }
      ]
    },
    {
      "cell_type": "code",
      "source": [
        "#9. Write a Python program that uses `map()` to convert a list of temperatures from Celsius to Fahrenheit\n",
        "celsius_temps = [0, 20, 37, 100]\n",
        "fahrenheit_temps = list(map(lambda c: (c * 9/5) + 32, celsius_temps))\n",
        "print(\"Celsius:\", celsius_temps)\n",
        "print(\"Fahrenheit:\", fahrenheit_temps)"
      ],
      "metadata": {
        "colab": {
          "base_uri": "https://localhost:8080/"
        },
        "id": "hGFwq-jRCZm-",
        "outputId": "2c3f1199-14a8-41ac-8401-a4f901998e05"
      },
      "execution_count": null,
      "outputs": [
        {
          "output_type": "stream",
          "name": "stdout",
          "text": [
            "Celsius: [0, 20, 37, 100]\n",
            "Fahrenheit: [32.0, 68.0, 98.6, 212.0]\n"
          ]
        }
      ]
    },
    {
      "cell_type": "code",
      "source": [
        "#10. Create a Python program that uses `filter()` to remove all the vowels from a given string\n",
        "input_str = \"Hello, this is a sample string with vowels.\"\n",
        "vowels = 'aeiouAEIOU'\n",
        "no_vowels = ''.join(filter(lambda char: char not in vowels, input_str))\n",
        "print(\"Original String:\", input_str)\n",
        "print(\"Without Vowels:\", no_vowels)"
      ],
      "metadata": {
        "colab": {
          "base_uri": "https://localhost:8080/"
        },
        "id": "fSyI9ALuCp-m",
        "outputId": "58ad70ce-55f6-429a-e755-58491dbd789c"
      },
      "execution_count": null,
      "outputs": [
        {
          "output_type": "stream",
          "name": "stdout",
          "text": [
            "Original String: Hello, this is a sample string with vowels.\n",
            "Without Vowels: Hll, ths s  smpl strng wth vwls.\n"
          ]
        }
      ]
    },
    {
      "cell_type": "code",
      "source": [
        "#11.  Imagine an accounting routine used in a book shop. It works on a list with sublists, which look like this:\n",
        "orders = [\n",
        "    [34587, \"Learning Python, Mark Lutz\", 4, 40.95],\n",
        "    [98762, \"Programming Python, Mark Lutz\", 5, 56.80],\n",
        "    [77226, \"Head First Python, Paul Barry\", 3, 32.95],\n",
        "    [88112, \"Einführung in Python3, Bernd Klein\", 3, 24.99]\n",
        "]\n",
        "result = list(map(lambda order: (order[0], round(order[2] * order[3] + (10 if (order[2] * order[3]) < 10000 else 0), 2)), orders))\n",
        "print(result)"
      ],
      "metadata": {
        "colab": {
          "base_uri": "https://localhost:8080/"
        },
        "id": "yaYISoMCC6T5",
        "outputId": "f702ed4c-841c-4551-8fa0-083a95a072a5"
      },
      "execution_count": null,
      "outputs": [
        {
          "output_type": "stream",
          "name": "stdout",
          "text": [
            "[(34587, 173.8), (98762, 294.0), (77226, 108.85), (88112, 84.97)]\n"
          ]
        }
      ]
    }
  ]
}